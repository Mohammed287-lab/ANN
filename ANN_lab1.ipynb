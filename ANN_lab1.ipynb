{
  "nbformat": 4,
  "nbformat_minor": 0,
  "metadata": {
    "colab": {
      "provenance": [],
      "authorship_tag": "ABX9TyMyRAlFPZ0iC1r63XPHDp5/",
      "include_colab_link": true
    },
    "kernelspec": {
      "name": "python3",
      "display_name": "Python 3"
    },
    "language_info": {
      "name": "python"
    }
  },
  "cells": [
    {
      "cell_type": "markdown",
      "metadata": {
        "id": "view-in-github",
        "colab_type": "text"
      },
      "source": [
        "<a href=\"https://colab.research.google.com/github/Mohammed287-lab/ANN/blob/main/ANN_lab1.ipynb\" target=\"_parent\"><img src=\"https://colab.research.google.com/assets/colab-badge.svg\" alt=\"Open In Colab\"/></a>"
      ]
    },
    {
      "cell_type": "code",
      "execution_count": 3,
      "metadata": {
        "colab": {
          "base_uri": "https://localhost:8080/"
        },
        "id": "q51MuGbP3YCL",
        "outputId": "9e61b8f0-924f-403a-9132-e369e74a6676"
      },
      "outputs": [
        {
          "output_type": "stream",
          "name": "stdout",
          "text": [
            "sum = 15\n"
          ]
        }
      ],
      "source": [
        "a = 10\n",
        "b = 5\n",
        "sum = a+b\n",
        "print(\"sum =\", sum)"
      ]
    },
    {
      "cell_type": "code",
      "source": [
        "a=5\n",
        "b=5\n",
        "sum=a+b\n",
        "difference=a-b\n",
        "product=a*b\n",
        "division=a/b\n",
        "print(\"sum=\",sum)\n",
        "print(\"difference\",difference)\n",
        "print(\"product=\",product)\n",
        "print(\"division=\",division)\n"
      ],
      "metadata": {
        "colab": {
          "base_uri": "https://localhost:8080/"
        },
        "id": "SQ18mGin5Doa",
        "outputId": "abb4426a-519f-4520-d668-9cbe18e45e11"
      },
      "execution_count": 9,
      "outputs": [
        {
          "output_type": "stream",
          "name": "stdout",
          "text": [
            "sum= 10\n",
            "difference 0\n",
            "product= 25\n",
            "division= 1.0\n"
          ]
        }
      ]
    }
  ]
}