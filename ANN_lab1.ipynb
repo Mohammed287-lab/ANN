{
  "nbformat": 4,
  "nbformat_minor": 0,
  "metadata": {
    "colab": {
      "provenance": [],
      "authorship_tag": "ABX9TyN87xVGoYa67G6m58pI3Uqz",
      "include_colab_link": true
    },
    "kernelspec": {
      "name": "python3",
      "display_name": "Python 3"
    },
    "language_info": {
      "name": "python"
    }
  },
  "cells": [
    {
      "cell_type": "markdown",
      "metadata": {
        "id": "view-in-github",
        "colab_type": "text"
      },
      "source": [
        "<a href=\"https://colab.research.google.com/github/Mohammed287-lab/ANN/blob/main/ANN_lab1.ipynb\" target=\"_parent\"><img src=\"https://colab.research.google.com/assets/colab-badge.svg\" alt=\"Open In Colab\"/></a>"
      ]
    },
    {
      "cell_type": "code",
      "execution_count": 3,
      "metadata": {
        "colab": {
          "base_uri": "https://localhost:8080/"
        },
        "id": "q51MuGbP3YCL",
        "outputId": "9e61b8f0-924f-403a-9132-e369e74a6676"
      },
      "outputs": [
        {
          "output_type": "stream",
          "name": "stdout",
          "text": [
            "sum = 15\n"
          ]
        }
      ],
      "source": [
        "a = 10\n",
        "b = 5\n",
        "sum = a+b\n",
        "print(\"sum =\", sum)"
      ]
    }
  ]
}