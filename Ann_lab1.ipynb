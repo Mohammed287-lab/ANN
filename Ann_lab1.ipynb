{
  "nbformat": 4,
  "nbformat_minor": 0,
  "metadata": {
    "colab": {
      "provenance": [],
      "name": "Ann_lab1.ipynb",
      "authorship_tag": "ABX9TyNnR0/sYCacwXvNJhdvnH3J",
      "include_colab_link": true
    },
    "kernelspec": {
      "name": "python3",
      "display_name": "Python 3"
    },
    "language_info": {
      "name": "python"
    }
  },
  "cells": [
    {
      "cell_type": "markdown",
      "metadata": {
        "id": "view-in-github",
        "colab_type": "text"
      },
      "source": [
        "<a href=\"https://colab.research.google.com/github/Mohammed287-lab/ANN/blob/main/Ann_lab1.ipynb\" target=\"_parent\"><img src=\"https://colab.research.google.com/assets/colab-badge.svg\" alt=\"Open In Colab\"/></a>"
      ]
    },
    {
      "cell_type": "code",
      "execution_count": null,
      "metadata": {
        "colab": {
          "base_uri": "https://localhost:8080/"
        },
        "id": "q51MuGbP3YCL",
        "outputId": "9e61b8f0-924f-403a-9132-e369e74a6676"
      },
      "outputs": [
        {
          "output_type": "stream",
          "name": "stdout",
          "text": [
            "sum = 15\n"
          ]
        }
      ],
      "source": [
        "a = 10\n",
        "b = 5\n",
        "sum = a+b\n",
        "print(\"sum =\", sum)"
      ]
    },
    {
      "cell_type": "code",
      "source": [],
      "metadata": {
        "id": "yaMrocBghHRy"
      },
      "execution_count": null,
      "outputs": []
    },
    {
      "cell_type": "code",
      "source": [
        "a=10\n",
        "b=5\n",
        "sum=a+b\n",
        "difference=a-b\n",
        "product=a*b\n",
        "division=a/b\n",
        "print(\"sum=\",sum)\n",
        "print(\"difference\",difference)\n",
        "print(\"product=\",product)\n",
        "print(\"division=\",division)\n"
      ],
      "metadata": {
        "colab": {
          "base_uri": "https://localhost:8080/"
        },
        "id": "SQ18mGin5Doa",
        "outputId": "8bd27393-9470-48bf-866c-7e48fd60b2e1"
      },
      "execution_count": null,
      "outputs": [
        {
          "output_type": "stream",
          "name": "stdout",
          "text": [
            "sum= 15\n",
            "difference 5\n",
            "product= 50\n",
            "division= 2.0\n"
          ]
        }
      ]
    },
    {
      "cell_type": "code",
      "source": [
        "print(f\"THE SUM OF two numbers{a},{b} is {sum}\")"
      ],
      "metadata": {
        "colab": {
          "base_uri": "https://localhost:8080/"
        },
        "id": "3SwJ_A1UgdTJ",
        "outputId": "c4f398fc-c847-4623-90da-595f07181eed"
      },
      "execution_count": null,
      "outputs": [
        {
          "output_type": "stream",
          "name": "stdout",
          "text": [
            "THE SUM OF two numbers10,5 is 15\n"
          ]
        }
      ]
    },
    {
      "cell_type": "code",
      "source": [
        "x=13/2\n",
        "print(x)\n",
        "y=13%2\n",
        "print(y)"
      ],
      "metadata": {
        "colab": {
          "base_uri": "https://localhost:8080/"
        },
        "id": "yw3X1YxMiHm_",
        "outputId": "a727b2d2-2f53-426c-b5b8-fb1d60289375"
      },
      "execution_count": null,
      "outputs": [
        {
          "output_type": "stream",
          "name": "stdout",
          "text": [
            "6.5\n",
            "1\n"
          ]
        }
      ]
    },
    {
      "cell_type": "code",
      "source": [
        "x=10\n",
        "a=5\n",
        "is_greater=x>a\n",
        "is_equal=x==y\n",
        "is_not_equal=x!=y\n",
        "print(\"is x greater than y?\",is_greater)\n",
        "print(\"is x equal y\",is_equal)\n",
        "print(\"is x not equal y \",is_not_equal)\n",
        "\n",
        "name=\"MOHAMMED\"\n",
        "Age=20\n",
        "is_student=True\n",
        "print(f\"{name}'s age is {Age}.he is student {is_student}\")"
      ],
      "metadata": {
        "colab": {
          "base_uri": "https://localhost:8080/"
        },
        "id": "vX_Uoli8iiox",
        "outputId": "d17bc4c4-162b-41a7-9a99-1b8e1199f497"
      },
      "execution_count": null,
      "outputs": [
        {
          "output_type": "stream",
          "name": "stdout",
          "text": [
            "is x greater than y? True\n",
            "is x equal y False\n",
            "is x not equal y  True\n",
            "MOHAMMED's age is 20.he is student True\n"
          ]
        }
      ]
    },
    {
      "cell_type": "code",
      "source": [
        "def greet(name):\n",
        "\n",
        "  return \"Hello,\"+name+ \"!\"\n",
        "\n",
        "my_name=input(\"enter your name:\")\n",
        "greet(name)"
      ],
      "metadata": {
        "colab": {
          "base_uri": "https://localhost:8080/",
          "height": 52
        },
        "id": "gUrB2Q-Blv0P",
        "outputId": "742f259c-a8ce-4a25-fdf1-8994f47f95ec"
      },
      "execution_count": null,
      "outputs": [
        {
          "name": "stdout",
          "output_type": "stream",
          "text": [
            "enter your name:fffff\n"
          ]
        },
        {
          "output_type": "execute_result",
          "data": {
            "text/plain": [
              "'Hello,ffff!'"
            ],
            "application/vnd.google.colaboratory.intrinsic+json": {
              "type": "string"
            }
          },
          "metadata": {},
          "execution_count": 70
        }
      ]
    },
    {
      "cell_type": "code",
      "source": [
        "def add_numbers(a,b):\n",
        "  return a+b\n",
        "\n",
        "a=eval(input(\"Enter your first Number\"))\n",
        "b=eval(input(\"Enter your second Number\"))\n",
        "addition_value= add_numbers(a,b)\n",
        "print(f\"The result of addition for {a},{b},is {addition_value}\")\n"
      ],
      "metadata": {
        "colab": {
          "base_uri": "https://localhost:8080/"
        },
        "id": "k_bvPY_4kH0T",
        "outputId": "38742ddd-440e-4939-87d8-203f44fa023b"
      },
      "execution_count": null,
      "outputs": [
        {
          "output_type": "stream",
          "name": "stdout",
          "text": [
            "Enter your first Number2.2\n",
            "Enter your second Number2.2\n",
            "The result of addition for 2.2,2.2,is 4.4\n"
          ]
        }
      ]
    },
    {
      "cell_type": "code",
      "source": [
        "message=\"Hello,Mohammed\"\n",
        "lenth=len(message)\n",
        "uppercase=message.upper()\n",
        "lowercase=message.lower()\n",
        "substring=message[6:14]\n",
        "print(\"orginal message: \", message)\n",
        "print(\"lenth:\",lenth)\n",
        "print(\"uppercase message:\",uppercase)\n",
        "print(\"lowercase message:\",lowercase)\n",
        "print(\"substring message:\",substring)"
      ],
      "metadata": {
        "colab": {
          "base_uri": "https://localhost:8080/"
        },
        "id": "RGqsC6cS1XQN",
        "outputId": "0b5c19f4-12b6-4e3f-fb75-f53f961cf17a"
      },
      "execution_count": null,
      "outputs": [
        {
          "output_type": "stream",
          "name": "stdout",
          "text": [
            "orginal message:  Hello,Mohammed\n",
            "lenth: 14\n",
            "uppercase message: HELLO,MOHAMMED\n",
            "lowercase message: hello,mohammed\n",
            "substring message: Mohammed\n"
          ]
        }
      ]
    },
    {
      "cell_type": "code",
      "source": [
        "\n",
        "last=input(\"Enter the last name:\")\n",
        "first=input(\"Enter the first name:\")\n",
        "print(f\"the last name {last},the first name:{first}\")\n",
        "\n"
      ],
      "metadata": {
        "colab": {
          "base_uri": "https://localhost:8080/"
        },
        "id": "3ARmpeOY5SGa",
        "outputId": "f6325ff0-cce2-4410-92fb-3f53344c97da"
      },
      "execution_count": null,
      "outputs": [
        {
          "output_type": "stream",
          "name": "stdout",
          "text": [
            "Enter the last name:abufifeh\n",
            "Enter the first name:Mohammed\n",
            "the last name abufifeh,the first name:Mohammed\n"
          ]
        }
      ]
    },
    {
      "cell_type": "code",
      "source": [
        "age=int(input(\"enter your age:\"))\n",
        "print(\"You will be:\",age+1,\"years old\")\n",
        "\n"
      ],
      "metadata": {
        "colab": {
          "base_uri": "https://localhost:8080/"
        },
        "id": "xwXo3FNw8fYu",
        "outputId": "c64c82d5-1500-4d83-d2a8-a4a0f09663cf"
      },
      "execution_count": null,
      "outputs": [
        {
          "output_type": "stream",
          "name": "stdout",
          "text": [
            "enter your age:20\n",
            "You will be: 21 years old\n"
          ]
        }
      ]
    },
    {
      "cell_type": "code",
      "source": [
        "num1=float(input (\"the first number:\"))\n",
        "num2=float(input(\"the second number\"))\n",
        "sum_result=num1+num2\n",
        "print(\"sum\",sum_result)"
      ],
      "metadata": {
        "colab": {
          "base_uri": "https://localhost:8080/"
        },
        "id": "yl-tMvfT9WV-",
        "outputId": "8eea5e90-85bf-4fdc-9c1a-c9e5f64ba779"
      },
      "execution_count": null,
      "outputs": [
        {
          "output_type": "stream",
          "name": "stdout",
          "text": [
            "the first number:5\n",
            "the second number2\n",
            "sum 7.0\n"
          ]
        }
      ]
    },
    {
      "cell_type": "code",
      "source": [
        "city=input(\"Enter your city :\")\n",
        "country=input(\"Enter your country:\")\n",
        "loction=city +\",\"+country\n",
        "print(\"your are in\",loction)"
      ],
      "metadata": {
        "colab": {
          "base_uri": "https://localhost:8080/"
        },
        "id": "y2UtfSKaYSjW",
        "outputId": "11db0a02-5078-485a-a370-194058bc9b26"
      },
      "execution_count": null,
      "outputs": [
        {
          "output_type": "stream",
          "name": "stdout",
          "text": [
            "Enter your city :Aqba\n",
            "Enter your country:Jordan\n",
            "your are in Aqba,Jordan\n"
          ]
        }
      ]
    },
    {
      "cell_type": "code",
      "source": [
        "name,age=input(\"Enter your name and age:\").split()\n",
        "print(\"your name is:\",name)\n",
        "print(\"your age is:\",age)"
      ],
      "metadata": {
        "colab": {
          "base_uri": "https://localhost:8080/"
        },
        "id": "XkKhiYeMZrIw",
        "outputId": "4f78ec65-a7a1-4df7-b155-c09d89294754"
      },
      "execution_count": null,
      "outputs": [
        {
          "output_type": "stream",
          "name": "stdout",
          "text": [
            "Enter your name and age:mohammed 21\n",
            "your name is: mohammed\n",
            "your age is: 21\n"
          ]
        }
      ]
    }
  ]
}